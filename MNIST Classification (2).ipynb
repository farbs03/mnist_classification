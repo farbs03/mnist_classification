{
 "cells": [
  {
   "cell_type": "code",
   "execution_count": 2,
   "metadata": {},
   "outputs": [],
   "source": [
    "import tensorflow as tf\n",
    "\n",
    "#Load in the MNIST data\n",
    "#Split it up into the training and testing batches\n",
    "\n",
    "(X_train, y_train), (X_test, y_test) = tf.keras.datasets.mnist.load_data()"
   ]
  },
  {
   "cell_type": "code",
   "execution_count": 3,
   "metadata": {},
   "outputs": [
    {
     "name": "stdout",
     "output_type": "stream",
     "text": [
      "8\n"
     ]
    },
    {
     "data": {
      "text/plain": [
       "<matplotlib.image.AxesImage at 0x63d411950>"
      ]
     },
     "execution_count": 3,
     "metadata": {},
     "output_type": "execute_result"
    },
    {
     "data": {
      "image/png": "[encoded data removed]",
      "text/plain": [
       "<Figure size 432x288 with 1 Axes>"
      ]
     },
     "metadata": {
      "needs_background": "light"
     },
     "output_type": "display_data"
    }
   ],
   "source": [
    "import matplotlib.pyplot as plt\n",
    "%matplotlib inline\n",
    "\n",
    "#Select any number up to 60000\n",
    "image_index = 7777\n",
    "#The label to the X value\n",
    "print(y_train[image_index])\n",
    "#Use plt to show the image\n",
    "plt.imshow(X_train[image_index], cmap=\"Greys\")"
   ]
  },
  {
   "cell_type": "code",
   "execution_count": 5,
   "metadata": {},
   "outputs": [
    {
     "name": "stdout",
     "output_type": "stream",
     "text": [
      "(60000, 28, 28)\n"
     ]
    },
    {
     "data": {
      "text/plain": [
       "(28, 28)"
      ]
     },
     "execution_count": 5,
     "metadata": {},
     "output_type": "execute_result"
    }
   ],
   "source": [
    "#Know the shape of the dataset to channel it to the CNN\n",
    "print(X_train.shape)\n",
    "#The 60000 represents the number of images\n",
    "#The 28s represent the dimensions of the images\n",
    "X_train[0].shape"
   ]
  },
  {
   "cell_type": "code",
   "execution_count": 271,
   "metadata": {},
   "outputs": [
    {
     "name": "stdout",
     "output_type": "stream",
     "text": [
      "X_train shape: (60000, 28, 28, 1)\n",
      "Number of images in X_train: 60000\n",
      "Number of images in X_test: 10000\n"
     ]
    }
   ],
   "source": [
    "#Reshape the data so it can work with the Keras API\n",
    "#The data needs to be in 4 dimensions\n",
    "X_train = X_train.reshape(X_train.shape[0], 28, 28, 1)\n",
    "X_test = X_test.reshape(X_test.shape[0], 28, 28, 1)\n",
    "input_shape = (28, 28, 1)\n",
    "#Make sure that the values are floats to decimal points after doing division\n",
    "X_train = X_train.astype('float32')\n",
    "X_test = X_test.astype('float32')\n",
    "#Normalizing the RGB codes by dividing it to the max RGB value\n",
    "X_train /= 255\n",
    "X_test /= 255\n",
    "print('X_train shape:', X_train.shape)\n",
    "print('Number of images in X_train:', X_train.shape[0])\n",
    "print('Number of images in X_test:', X_test.shape[0])"
   ]
  },
  {
   "cell_type": "code",
   "execution_count": 272,
   "metadata": {},
   "outputs": [],
   "source": [
    "#Import the necessary modules to build the Convolutional Neural Network\n",
    "from keras.models import Sequential\n",
    "from keras.layers import Dense, Conv2D, Dropout, Flatten, MaxPooling2D\n",
    "#Creating a sequential model and adding the layers\n",
    "model = Sequential()\n",
    "model.add(Conv2D(28, kernel_size=(3, 3), input_shape=input_shape))\n",
    "model.add(MaxPooling2D(pool_size=(2, 2)))\n",
    "#Flattening the 2D arrays for fully connected layers\n",
    "model.add(Flatten())\n",
    "model.add(Dense(128, activation=tf.nn.relu))\n",
    "model.add(Dropout(0.2))\n",
    "model.add(Dense(10, activation=tf.nn.softmax))"
   ]
  },
  {
   "cell_type": "code",
   "execution_count": 273,
   "metadata": {},
   "outputs": [
    {
     "name": "stdout",
     "output_type": "stream",
     "text": [
      "Epoch 1/10\n",
      "10000/10000 [==============================] - 5s 529us/step - loss: 0.4173 - accuracy: 0.8758\n",
      "Epoch 2/10\n",
      "10000/10000 [==============================] - 5s 512us/step - loss: 0.1684 - accuracy: 0.9460\n",
      "Epoch 3/10\n",
      "10000/10000 [==============================] - 5s 518us/step - loss: 0.1010 - accuracy: 0.9682\n",
      "Epoch 4/10\n",
      "10000/10000 [==============================] - 5s 511us/step - loss: 0.0640 - accuracy: 0.9799\n",
      "Epoch 5/10\n",
      "10000/10000 [==============================] - 5s 520us/step - loss: 0.0473 - accuracy: 0.9851\n",
      "Epoch 6/10\n",
      "10000/10000 [==============================] - 5s 526us/step - loss: 0.0360 - accuracy: 0.9880\n",
      "Epoch 7/10\n",
      "10000/10000 [==============================] - 5s 536us/step - loss: 0.0274 - accuracy: 0.9909\n",
      "Epoch 8/10\n",
      "10000/10000 [==============================] - 5s 527us/step - loss: 0.0190 - accuracy: 0.9942\n",
      "Epoch 9/10\n",
      "10000/10000 [==============================] - 5s 544us/step - loss: 0.0226 - accuracy: 0.9933\n",
      "Epoch 10/10\n",
      "10000/10000 [==============================] - 5s 535us/step - loss: 0.0131 - accuracy: 0.99630s - loss: 0.0129 - accu\n"
     ]
    },
    {
     "data": {
      "text/plain": [
       "<keras.callbacks.callbacks.History at 0x631773e50>"
      ]
     },
     "execution_count": 273,
     "metadata": {},
     "output_type": "execute_result"
    }
   ],
   "source": [
    "#Compiling and fitting the model\n",
    "model.compile(optimizer='adam',#The adam optimizer is typically used, as it usually deos the best\n",
    "             loss='sparse_categorical_crossentropy',\n",
    "             metrics=['accuracy'])\n",
    "model.fit(X_test, y_test, epochs=10)"
   ]
  },
  {
   "cell_type": "code",
   "execution_count": 274,
   "metadata": {},
   "outputs": [
    {
     "name": "stdout",
     "output_type": "stream",
     "text": [
      "10000/10000 [==============================] - 1s 144us/step\n"
     ]
    },
    {
     "data": {
      "text/plain": [
       "[0.003394177638592373, 0.9998000264167786]"
      ]
     },
     "execution_count": 274,
     "metadata": {},
     "output_type": "execute_result"
    }
   ],
   "source": [
    "model.evaluate(X_test, y_test)"
   ]
  },
  {
   "cell_type": "code",
   "execution_count": 275,
   "metadata": {},
   "outputs": [
    {
     "name": "stdout",
     "output_type": "stream",
     "text": [
      "9\n"
     ]
    },
    {
     "data": {
      "image/png": "[encoded data removed]",
      "text/plain": [
       "<Figure size 432x288 with 1 Axes>"
      ]
     },
     "metadata": {
      "needs_background": "light"
     },
     "output_type": "display_data"
    }
   ],
   "source": [
    "#Make an individual prediction for a future input\n",
    "image_index = 4444\n",
    "plt.imshow(X_test[image_index].reshape(28, 28), cmap=\"Greys\")\n",
    "pred = model.predict(X_test[image_index].reshape(1, 28, 28, 1))\n",
    "print(pred.argmax())"
   ]
  },
  {
   "cell_type": "code",
   "execution_count": 299,
   "metadata": {},
   "outputs": [],
   "source": [
    "import random\n",
    "def makePrediction():\n",
    "    img_idx = random.randint(0, 9999)\n",
    "    plt.imshow(X_test[img_idx].reshape(28, 28), cmap=\"Greys\")\n",
    "    pred = model.predict(X_test[img_idx].reshape(1, 28, 28, 1))\n",
    "    print(\"Image number\", img_idx + 1)\n",
    "    print(\"The number should be\", pred.argmax())"
   ]
  },
  {
   "cell_type": "code",
   "execution_count": 327,
   "metadata": {},
   "outputs": [
    {
     "name": "stdout",
     "output_type": "stream",
     "text": [
      "Image number 4727\n",
      "The number should be 8\n"
     ]
    },
    {
     "data": {
      "image/png": "[encoded data removed]",
      "text/plain": [
       "<Figure size 432x288 with 1 Axes>"
      ]
     },
     "metadata": {
      "needs_background": "light"
     },
     "output_type": "display_data"
    }
   ],
   "source": [
    "makePrediction()"
   ]
  },
  {
   "cell_type": "code",
   "execution_count": 4,
   "metadata": {},
   "outputs": [
    {
     "data": {
      "text/plain": [
       "<matplotlib.image.AxesImage at 0x63d4dbc10>"
      ]
     },
     "execution_count": 4,
     "metadata": {},
     "output_type": "execute_result"
    },
    {
     "data": {
      "image/png": "[encoded data removed]",
      "text/plain": [
       "<Figure size 432x288 with 1 Axes>"
      ]
     },
     "metadata": {
      "needs_background": "light"
     },
     "output_type": "display_data"
    }
   ],
   "source": [
    "plt.imshow(X_test[7020], cmap=\"Greys\")"
   ]
  }
 ],
 "metadata": {
  "kernelspec": {
   "display_name": "Python 3",
   "language": "python",
   "name": "python3"
  },
  "language_info": {
   "codemirror_mode": {
    "name": "ipython",
    "version": 3
   },
   "file_extension": ".py",
   "mimetype": "text/x-python",
   "name": "python",
   "nbconvert_exporter": "python",
   "pygments_lexer": "ipython3",
   "version": "3.7.4"
  }
 },
 "nbformat": 4,
 "nbformat_minor": 2
}
